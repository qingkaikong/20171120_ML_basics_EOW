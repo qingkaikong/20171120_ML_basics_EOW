{
 "cells": [
  {
   "cell_type": "markdown",
   "metadata": {},
   "source": [
    "# Machine learning in Python with scikit-learn\n",
    "\n",
    "The materials in this repository are for the Pre-workshop on June 28, 4 - 6 pm, as part of the [2017 CDIPS Data Science Workshop](http://cdips.physics.berkeley.edu/2017-cdips-data-science-workshop/). It is prepared by [Qingkai Kong](http://seismo.berkeley.edu/qingkaikong/). \n",
    "\n",
    "## Goals of the workshop\n",
    "\n",
    "* Understand the basics of Machine Learning\n",
    "* Get familiar with the syntax of scikit-learn\n",
    "\n",
    "After the workshop, you should be able to use popular models in your problems. \n",
    "\n",
    "## The setup\n",
    "\n",
    "This workshop will use Python 3. If your main environment is Python 2, you can create a virtual environment to use Python 3 without messing up with your existing environment. You can follow steps [here](http://qingkaikong.blogspot.com/2017/06/python-using-virtual-environments.html) \n",
    "\n",
    "The easiest way to get these working is to use the [conda](http://store.continuum.io/) environment manager.\n",
    "I suggest downloading and installing [miniconda](http://conda.pydata.org/miniconda.html).\n",
    "\n",
    "The following command will install all required packages:\n",
    "\n",
    "```\n",
    "$ pip install -r requirements.txt\n",
    "```"
   ]
  },
  {
   "cell_type": "markdown",
   "metadata": {
    "collapsed": true
   },
   "source": [
    "### Checking your installation\n",
    "\n",
    "You can run the following code to check the versions of the packages on your system:\n",
    "\n",
    "(in Jupyter notebook, press `shift` and `return` together to execute the contents of a cell)"
   ]
  },
  {
   "cell_type": "code",
   "execution_count": 1,
   "metadata": {},
   "outputs": [
    {
     "name": "stdout",
     "output_type": "stream",
     "text": [
      "numpy: 1.13.0\n",
      "matplotlib: 2.0.2\n",
      "scikit-learn: 0.18.1\n"
     ]
    }
   ],
   "source": [
    "import numpy\n",
    "print('numpy:', numpy.__version__)\n",
    "\n",
    "import matplotlib\n",
    "print('matplotlib:', matplotlib.__version__)\n",
    "\n",
    "import sklearn\n",
    "print('scikit-learn:', sklearn.__version__)"
   ]
  },
  {
   "cell_type": "markdown",
   "metadata": {},
   "source": [
    "## References\n",
    "\n",
    "* [Intro-to-sklearn](https://github.com/PythonWorkshop/intro-to-sklearn)\n",
    "* [sklearn tutorial](https://github.com/jakevdp/sklearn_tutorial) by [Jake Vanderplas](https://staff.washington.edu/jakevdp/)\n",
    "* [Python Machine Learning](https://www.amazon.com/Python-Machine-Learning-Sebastian-Raschka/dp/1783555130/) by [Sebastian Raschka](https://sebastianraschka.com/)"
   ]
  }
 ],
 "metadata": {
  "kernelspec": {
   "display_name": "Python 3",
   "language": "python",
   "name": "python3"
  },
  "language_info": {
   "codemirror_mode": {
    "name": "ipython",
    "version": 3
   },
   "file_extension": ".py",
   "mimetype": "text/x-python",
   "name": "python",
   "nbconvert_exporter": "python",
   "pygments_lexer": "ipython3",
   "version": "3.6.1"
  }
 },
 "nbformat": 4,
 "nbformat_minor": 1
}
