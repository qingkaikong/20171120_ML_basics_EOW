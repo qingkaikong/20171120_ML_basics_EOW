{
 "cells": [
  {
   "cell_type": "markdown",
   "metadata": {},
   "source": [
    "### More resources\n",
    "* [Scipy 2016 Workshop, Scikit-learn tutorial](https://github.com/amueller/scipy-2016-sklearn) by Sebastian Raschka and Andreas Mueller\n",
    "* [A Few Useful Things to Know about Machine Learning](http://homes.cs.washington.edu/~pedrod/papers/cacm12.pdf) with useful ML \"folk wisdom\" by Pedro Domingos (Univ of Washington, CS Dept)\n",
    "* [sklearn examples](http://scikit-learn.org/stable/auto_examples/index.html)\n",
    "* [Python machine learning](https://www.amazon.com/Python-Machine-Learning-Sebastian-Raschka/dp/1783555130/ref=sr_1_1?ie=UTF8&qid=1468347805&sr=8-1&keywords=sebastian+raschka) by Sebastian Raschka\n",
    "* [Introduction to machine learning with Python](http://shop.oreilly.com/product/0636920030515.do) by Andreas Mueller\n",
    "* [Python data science handbook](http://shop.oreilly.com/product/0636920034919.do) by Jake VanderPlas\n",
    "\n",
    "\n",
    "### Some Datasets\n",
    "* [Machine learning datasets](http://mldata.org/)\n",
    "* [Machine learning repository](https://archive.ics.uci.edu/ml/datasets.html)\n",
    "* [Make your own with sklearn](http://scikit-learn.org/stable/datasets/index.html#sample-generators)\n",
    "* [Kaggle datasets](https://www.kaggle.com/datasets)\n",
    "\n",
    "### Contact Info\n",
    "\n",
    "Qingkai Kong<br>\n",
    "email: kongqk@berkeley.edu   \n",
    "website: http://seismo.berkeley.edu/qingkaikong/"
   ]
  },
  {
   "cell_type": "code",
   "execution_count": null,
   "metadata": {
    "collapsed": true
   },
   "outputs": [],
   "source": []
  }
 ],
 "metadata": {
  "kernelspec": {
   "display_name": "Python 3",
   "language": "python",
   "name": "python3"
  },
  "language_info": {
   "codemirror_mode": {
    "name": "ipython",
    "version": 3
   },
   "file_extension": ".py",
   "mimetype": "text/x-python",
   "name": "python",
   "nbconvert_exporter": "python",
   "pygments_lexer": "ipython3",
   "version": "3.6.1"
  }
 },
 "nbformat": 4,
 "nbformat_minor": 2
}
